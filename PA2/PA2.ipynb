{
 "cells": [
  {
   "cell_type": "markdown",
   "metadata": {},
   "source": [
    "# Programming Assignment 4 (Problem sheet 6)\n",
    "Héctor Andrade Loarca"
   ]
  },
  {
   "cell_type": "markdown",
   "metadata": {},
   "source": [
    "We want to implement the CG method for the solution of the linear system $Ax=b$ for a given matrix $A\\in S^m$ pos. def. and $b\\in \\mathbb{R}^n$"
   ]
  },
  {
   "cell_type": "markdown",
   "metadata": {},
   "source": [
    "Lets define a function `CG` which implements the Conjugate Gradient Method whit inputs, the matrix $A$, the vector $b$, the error $\\epsilon$ and maximum number of iterations `maxit`; and as output the solution $x$, the number of required iterations `it` and the vector of residuals, i.e.\n",
    "\n",
    "`res`=$(||b-Ax^0||,...,||b-Ax^{it}||)$"
   ]
  },
  {
   "cell_type": "code",
   "execution_count": 22,
   "metadata": {
    "collapsed": false
   },
   "outputs": [
    {
     "data": {
      "text/plain": [
       "CG (generic function with 1 method)"
      ]
     },
     "execution_count": 22,
     "metadata": {},
     "output_type": "execute_result"
    }
   ],
   "source": [
    "function CG(A,b,ϵ,maxit)\n",
    "    #Lets begin with the vector zero as starting point\n",
    "    x=zeros(n)\n",
    "    #The starting gradient\n",
    "    g=A*x-b\n",
    "    #The starting descent direction\n",
    "    d=-g\n",
    "    #iterations\n",
    "    it=0\n",
    "    #starting the residuals\n",
    "    res=[norm(b-A*x)]\n",
    "    # we begin the while loop\n",
    "    while it<maxit && norm(g)>ϵ\n",
    "        #We set everything as the CG method\n",
    "        α=(norm(g)^2)/(transpose(d)*A*d)[1]\n",
    "        x+=α*d\n",
    "        β=(norm(g+α*A*d)^2)/(norm(g)^2)\n",
    "        g=g+α*A*d\n",
    "        d=-g+β*d\n",
    "        #Append \n",
    "        push!(res,norm(b-A*x))\n",
    "        it+=1\n",
    "    end\n",
    "    #We return the outputs\n",
    "    Any[x,it,res]\n",
    "end"
   ]
  },
  {
   "cell_type": "markdown",
   "metadata": {},
   "source": [
    "Lets use the Hilbert matrix of $n\\times n$ as Benchmark, whose entries are $A_{i j}=1/(i+j-1)$, defined as a fucntion with input the dimension $n$. Lets do it using types to be faster."
   ]
  },
  {
   "cell_type": "code",
   "execution_count": 23,
   "metadata": {
    "collapsed": false
   },
   "outputs": [
    {
     "data": {
      "text/plain": [
       "Hilbert (generic function with 1 method)"
      ]
     },
     "execution_count": 23,
     "metadata": {},
     "output_type": "execute_result"
    }
   ],
   "source": [
    "#Define a constructor    \n",
    "function Hilbert(n)\n",
    "    #Define a zero matrix to fill it with the values\n",
    "    H=zeros(n,n)\n",
    "    for i in 1:n\n",
    "        for j in 1:n\n",
    "            H[i,j]=1/(i+j-1)\n",
    "        end\n",
    "    end\n",
    "    H\n",
    "end"
   ]
  },
  {
   "cell_type": "markdown",
   "metadata": {},
   "source": [
    "We are going to use as parameters of error and maximum number of iterations the following"
   ]
  },
  {
   "cell_type": "code",
   "execution_count": 30,
   "metadata": {
    "collapsed": false
   },
   "outputs": [
    {
     "data": {
      "text/plain": [
       "10000"
      ]
     },
     "execution_count": 30,
     "metadata": {},
     "output_type": "execute_result"
    }
   ],
   "source": [
    "ϵ=1e-5\n",
    "maxit=10000"
   ]
  },
  {
   "cell_type": "markdown",
   "metadata": {},
   "source": [
    "First lets try with n=5"
   ]
  },
  {
   "cell_type": "code",
   "execution_count": 31,
   "metadata": {
    "collapsed": false
   },
   "outputs": [],
   "source": [
    "n=5\n",
    "A=Hilbert(n);\n",
    "# b vector with ones\n",
    "b=ones(n);"
   ]
  },
  {
   "cell_type": "code",
   "execution_count": 32,
   "metadata": {
    "collapsed": false
   },
   "outputs": [
    {
     "data": {
      "text/plain": [
       "3-element Array{Any,1}:\n",
       "  [5.000000212074378,-120.00000009629245,629.9999998500948,-1120.000000156727,629.9999998475234]                                                \n",
       " 6                                                                                                                                              \n",
       "  [2.23606797749979,0.9522398243032083,0.24206770158538768,0.042466353254903895,0.004676210060950159,0.0009940578846803702,7.358907261688369e-8]"
      ]
     },
     "execution_count": 32,
     "metadata": {},
     "output_type": "execute_result"
    }
   ],
   "source": [
    "CG_result=CG(A,b,ϵ,maxit)"
   ]
  },
  {
   "cell_type": "markdown",
   "metadata": {},
   "source": [
    "We can see that the number of iterations required are"
   ]
  },
  {
   "cell_type": "code",
   "execution_count": 33,
   "metadata": {
    "collapsed": false
   },
   "outputs": [
    {
     "data": {
      "text/plain": [
       "6"
      ]
     },
     "execution_count": 33,
     "metadata": {},
     "output_type": "execute_result"
    }
   ],
   "source": [
    "CG_result[2]"
   ]
  },
  {
   "cell_type": "markdown",
   "metadata": {},
   "source": [
    "Now lets do with n=8"
   ]
  },
  {
   "cell_type": "code",
   "execution_count": 34,
   "metadata": {
    "collapsed": true
   },
   "outputs": [],
   "source": [
    "n=8\n",
    "A=Hilbert(n);\n",
    "# b vector with ones\n",
    "b=ones(n);"
   ]
  },
  {
   "cell_type": "code",
   "execution_count": 35,
   "metadata": {
    "collapsed": false
   },
   "outputs": [
    {
     "data": {
      "text/plain": [
       "3-element Array{Any,1}:\n",
       "   [-7.9999849428891245,503.99978696527705,-7559.999320334311,46200.000864360256,-138600.00665425183,216216.00958881562,-168168.0046520919,51480.000369925896]                                                                                                                                                                                                                                                 \n",
       " 18                                                                                                                                                                                                                                                                                                                                                                                                            \n",
       "   [2.8284271247461903,1.3353352625460104,0.42688557603051086,0.10674953804216018,0.02158790633397045,0.003480324765524433,1.7891898825537587,0.0009251903373990505,0.0004810971708495437,0.0011215925743665504,0.0012683999476131302,3.4870723835222985e-5,0.000613932083581336,0.10016797961677348,0.9561223770635118,0.00011122806340808274,5.6913003016895885e-5,1.693638955716303e-5,4.916619732503903e-7]"
      ]
     },
     "execution_count": 35,
     "metadata": {},
     "output_type": "execute_result"
    }
   ],
   "source": [
    "CG_result=CG(A,b,ϵ,maxit)"
   ]
  },
  {
   "cell_type": "markdown",
   "metadata": {},
   "source": [
    "Now the number of iterations increased to "
   ]
  },
  {
   "cell_type": "code",
   "execution_count": 36,
   "metadata": {
    "collapsed": false
   },
   "outputs": [
    {
     "data": {
      "text/plain": [
       "18"
      ]
     },
     "execution_count": 36,
     "metadata": {},
     "output_type": "execute_result"
    }
   ],
   "source": [
    "CG_result[2]"
   ]
  },
  {
   "cell_type": "markdown",
   "metadata": {},
   "source": [
    "Now with n=12"
   ]
  },
  {
   "cell_type": "code",
   "execution_count": 37,
   "metadata": {
    "collapsed": true
   },
   "outputs": [],
   "source": [
    "n=12\n",
    "A=Hilbert(n);\n",
    "# b vector with ones\n",
    "b=ones(n);"
   ]
  },
  {
   "cell_type": "code",
   "execution_count": 38,
   "metadata": {
    "collapsed": false
   },
   "outputs": [
    {
     "data": {
      "text/plain": [
       "3-element Array{Any,1}:\n",
       "   [8.484573591086065,-533.6134714785092,7822.052041496177,-44196.88170190329,106571.39264773895,-79267.14812470903,-71538.38693044212,67140.91217765342,100705.88289639771,-27808.745219665838,-142932.18868474703,84125.13100674374]                                                                                                                                                                                     \n",
       " 19                                                                                                                                                                                                                                                                                                                                                                                                                        \n",
       "   [3.4641016151377544,1.7409647264705157,0.6424182675783826,0.19396136930963218,0.05060821290824378,0.011495533210329154,0.01956758723540717,0.002288882997267051,1.0007041016943758,0.0003887849336192542,0.10308836130160742,0.09211093398632217,0.0026831187011211004,0.0072972439416652225,5.665683398226343e-5,0.011639977181085575,0.12532968959115298,0.043850657973220956,1.1042180489450046,7.002260171445855e-6]"
      ]
     },
     "execution_count": 38,
     "metadata": {},
     "output_type": "execute_result"
    }
   ],
   "source": [
    "CG_result=CG(A,b,ϵ,maxit)"
   ]
  },
  {
   "cell_type": "markdown",
   "metadata": {},
   "source": [
    "Now the number of iterations increased a bit to "
   ]
  },
  {
   "cell_type": "code",
   "execution_count": 40,
   "metadata": {
    "collapsed": false
   },
   "outputs": [
    {
     "data": {
      "text/plain": [
       "19"
      ]
     },
     "execution_count": 40,
     "metadata": {},
     "output_type": "execute_result"
    }
   ],
   "source": [
    "CG_result[2]"
   ]
  },
  {
   "cell_type": "markdown",
   "metadata": {},
   "source": [
    "Finally lets do it with n=20"
   ]
  },
  {
   "cell_type": "code",
   "execution_count": 41,
   "metadata": {
    "collapsed": true
   },
   "outputs": [],
   "source": [
    "n=20\n",
    "A=Hilbert(n);\n",
    "# b vector with ones\n",
    "b=ones(n);"
   ]
  },
  {
   "cell_type": "code",
   "execution_count": 42,
   "metadata": {
    "collapsed": false
   },
   "outputs": [
    {
     "data": {
      "text/plain": [
       "3-element Array{Any,1}:\n",
       "   [9.984726814645823,-752.118463355912,13297.873788751594,-91781.03134761505,279561.6258098494,-315729.57084853284,-98111.3655344086,256123.04929580685,228920.60564174035,-52847.4036703173,-271362.839401672,-254180.40334148303,-38699.02807323009,212265.89890953858,327107.99221216806,216087.11450400276,-79577.276272531,-375194.8101861177,-355213.1489882011,400252.56558761734]\n",
       " 37                                                                                                                                                                                                                                                                                                                                                                                       \n",
       "   [4.47214,2.37603,1.00895,0.360153,0.115956,0.0340387,0.00917471,0.27289,0.0172364,0.00229508  …  0.0216188,0.0374905,0.0440745,0.00903355,0.0042782,0.00017474,0.000922782,5.33059e-5,1.47661e-5,5.032e-6]                                                                                                                                                                             "
      ]
     },
     "execution_count": 42,
     "metadata": {},
     "output_type": "execute_result"
    }
   ],
   "source": [
    "CG_result=CG(A,b,ϵ,maxit)"
   ]
  },
  {
   "cell_type": "markdown",
   "metadata": {},
   "source": [
    "The final number of iterations is"
   ]
  },
  {
   "cell_type": "code",
   "execution_count": 43,
   "metadata": {
    "collapsed": false
   },
   "outputs": [
    {
     "data": {
      "text/plain": [
       "37"
      ]
     },
     "execution_count": 43,
     "metadata": {},
     "output_type": "execute_result"
    }
   ],
   "source": [
    "CG_result[2]"
   ]
  }
 ],
 "metadata": {
  "kernelspec": {
   "display_name": "Julia 0.4.2-pre",
   "language": "julia",
   "name": "julia-0.4"
  },
  "language_info": {
   "file_extension": ".jl",
   "mimetype": "application/julia",
   "name": "julia",
   "version": "0.4.2"
  }
 },
 "nbformat": 4,
 "nbformat_minor": 0
}
