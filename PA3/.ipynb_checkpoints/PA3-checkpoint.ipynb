{
 "cells": [
  {
   "cell_type": "markdown",
   "metadata": {},
   "source": [
    "# Programming Assignment 3 (Problem Sheet 9)."
   ]
  },
  {
   "cell_type": "markdown",
   "metadata": {},
   "source": [
    "In this script the dogleg method is implemented to minimize the Rosenbrock function, for this method we are going to use the following parameters:\n",
    "\n",
    "- $\\mu_0=0.01$\n",
    "- $\\underline{\\mu}=0.1$\n",
    "- $\\overline{\\mu}=0.9$\n",
    "- $\\underline{\\omega}=0.4$\n",
    "- $\\overline{\\omega}=2.0$\n",
    "- $C=1.0$"
   ]
  },
  {
   "cell_type": "markdown",
   "metadata": {},
   "source": [
    "We gonna implement the algorithm in three different module, since we need a function that computes the Newton point $x_a^N$ using CG-Newton method in the current iteration $x_a$, another that computes the Cauchy Point $x_a^{CP}$, a function that compute the trust-region trial point and new radius using trust region algorithm, and a main function that gives the iterations. "
   ]
  },
  {
   "cell_type": "markdown",
   "metadata": {},
   "source": [
    "First lets define a function that gives back the Newton point $x_a^N$ using the CG-Method implemented in the Programming Assignment 2 of the Problem Sheet 6 for any "
   ]
  },
  {
   "cell_type": "code",
   "execution_count": 1,
   "metadata": {
    "collapsed": false
   },
   "outputs": [
    {
     "data": {
      "text/plain": [
       "CG (generic function with 1 method)"
      ]
     },
     "execution_count": 1,
     "metadata": {},
     "output_type": "execute_result"
    }
   ],
   "source": [
    "# CG method\n",
    "function CG(A,b,ϵ,maxit)\n",
    "    #Lets begin with the vector zero as starting point\n",
    "    x=zeros(size(A)[1])\n",
    "    #The starting gradient\n",
    "    g=A*x-b\n",
    "    #The starting descent direction\n",
    "    d=-g\n",
    "    #iterations\n",
    "    it=0\n",
    "    # we begin the while loop\n",
    "    while it<maxit && norm(g)>ϵ\n",
    "        #We set everything as the CG method\n",
    "        # Using the modification in the Remark 6.2\n",
    "        α=max(0,(norm(g)^2)/(transpose(d)*A*d)[1])\n",
    "        x+=α*d\n",
    "        β=max(0,transpose(α*A*d)*(g+α*A*d)/norm(g)^2)[1]\n",
    "        g=g+α*A*d\n",
    "        d=-g+β*d\n",
    "        it+=1\n",
    "    end\n",
    "    #We return the outputs\n",
    "    x\n",
    "end"
   ]
  },
  {
   "cell_type": "code",
   "execution_count": 2,
   "metadata": {
    "collapsed": false
   },
   "outputs": [
    {
     "data": {
      "text/plain": [
       "NewtonPoint (generic function with 1 method)"
      ]
     },
     "execution_count": 2,
     "metadata": {},
     "output_type": "execute_result"
    }
   ],
   "source": [
    "# Newton point\n",
    "function NewtonPoint(xa,f,∇f,∇2f,ϵ,maxit)\n",
    "    xa+CG(∇2f(xa),-∇f(xa),ϵ,maxit)\n",
    "end"
   ]
  },
  {
   "cell_type": "markdown",
   "metadata": {},
   "source": [
    "Now lets define a function that computes the Cauchy point $x_a^{CP}$ that is $x_a^{CP}=x_a-\\alpha_a\\nabla f(x_a)$ with:\n",
    "$$\n",
    "\\alpha_a:=\n",
    "\\begin{cases}\n",
    "\\frac{\\Delta_a}{||\\nabla f(x_a)||} & \\text{if } \\nabla f(x_a)^\\intercal H_a\\nabla f(x_a)\\leq 0\\\\\n",
    "min \\{\\frac{\\Delta_a}{||\\nabla f(x_a)||},\\frac{||\\nabla f(x_a)||^2}{\\nabla f(x_a)^\\intercal H_a \\nabla f(x_a)} \\} & \\text{if } \\nabla f(x_a)^\\intercal H_a\\nabla f(x_a)> 0 \\\\\n",
    "\\end{cases}\n",
    "$$\n",
    "with $\\Delta_a$ the radious of the trust region and $H_a$ the Hessian matrix of $f$ in the point $x_a$."
   ]
  },
  {
   "cell_type": "code",
   "execution_count": 3,
   "metadata": {
    "collapsed": false
   },
   "outputs": [
    {
     "data": {
      "text/plain": [
       "CauchyPoint (generic function with 1 method)"
      ]
     },
     "execution_count": 3,
     "metadata": {},
     "output_type": "execute_result"
    }
   ],
   "source": [
    "function CauchyPoint(xa,f,∇f,∇2f,Δa)\n",
    "    if (transpose(∇f(xa))*∇2f(xa)*∇f(xa))[1] <=0\n",
    "        αa=Δa/norm(∇f(xa))\n",
    "    else\n",
    "        αa=min(Δa/norm(∇f(xa)),\n",
    "        norm(∇f(xa))^2/((transpose(∇f(xa))*∇2f(xa)*∇f(xa))[1]))\n",
    "    end\n",
    "    xa-αa*∇f(xa)\n",
    "end"
   ]
  },
  {
   "cell_type": "markdown",
   "metadata": {},
   "source": [
    "In the following we define a function that computes the dogleg step to solve the trust region subproblem given as input the initial point $x_a$, the function and its derivatives $f$, $\\nabla f$ and $\\nabla^2f$ and the radius of the trust region $\\Delta$."
   ]
  },
  {
   "cell_type": "code",
   "execution_count": 4,
   "metadata": {
    "collapsed": false
   },
   "outputs": [
    {
     "data": {
      "text/plain": [
       "dogleg (generic function with 1 method)"
      ]
     },
     "execution_count": 4,
     "metadata": {},
     "output_type": "execute_result"
    }
   ],
   "source": [
    "function dogleg(xa,f,∇f,∇2f,Δ)\n",
    "    # Lets compute the Cauchy and newton points in this Benchmark\n",
    "    # Using as tolerance for the Newton-CG method 1e-5 and maxiteration for the\n",
    "    # same 10000\n",
    "    xN=NewtonPoint(xa,f,∇f,∇2f,1e-5,10000)\n",
    "    xCP=CauchyPoint(xa,f,∇f,∇2f,Δ)\n",
    "    # Lets check the options\n",
    "    Cond1=(transpose(xN-xCP)*(xCP-xa))[1]>=0\n",
    "    Cond2=(transpose(∇f(xa))*∇2f(xa)*∇f(xa))[1] >0\n",
    "    # With a tolerance in the equality of 1e-15\n",
    "    if (Δ-1e-15<=norm(xa-xCP) && norm(xa-xCP)<=Δ+1e-15) || (Cond2 && ~Cond1)\n",
    "        xv=xCP\n",
    "    elseif (norm(xa-xCP)<norm(xa-xN) && norm(xa-xN)<=Δ) && Cond1\n",
    "        xv=xN\n",
    "    else\n",
    "        a=norm(xCP)^2+norm(xN)^2-2*dot(xCP,xN)\n",
    "        b=-2*norm(xN)^2+2*dot(xCP,xN)-2*dot(xa,xCP)+2*dot(xa,xN)\n",
    "        c=norm(xN)^2+norm(xa)^2-2*dot(xa,xN)-Δ^2\n",
    "        t=(-b+sqrt(b^2-4*a*c))/2*a\n",
    "        xv=t*xCP+(1-t)*xN\n",
    "    end\n",
    "    # We return dv=xv-xa\n",
    "    xv-xa\n",
    "end"
   ]
  },
  {
   "cell_type": "markdown",
   "metadata": {},
   "source": [
    "In the following we define a function that takes as input $x_a$ the initial point, $x_v$ the trial point and $\\Delta$ the radius od the trust region and has as output the new trial point $x_+$ and the new radius of trust region $\\Delta_+$ given by the trust region method. "
   ]
  },
  {
   "cell_type": "code",
   "execution_count": 5,
   "metadata": {
    "collapsed": false
   },
   "outputs": [
    {
     "data": {
      "text/plain": [
       "trustregion_step (generic function with 1 method)"
      ]
     },
     "execution_count": 5,
     "metadata": {},
     "output_type": "execute_result"
    }
   ],
   "source": [
    "function trustregion_step(xa,xv,f,∇f,∇2f,Δ,maxiter)\n",
    "    #First lets define the parameters\n",
    "    # As just three different steps are needed to do the calculations\n",
    "    # we are just going to save three l's\n",
    "    μ0=0.01\n",
    "    μ_=0.1\n",
    "    μ̄=0.9\n",
    "    ω_=0.4\n",
    "    ω̄=2.0\n",
    "    C=1.0\n",
    "    # In order to have the least memory usage possible we are going to \n",
    "    # arrays with 3 entries that will represent the steps [l-1,l,l+1]\n",
    "    z=Any[xa]\n",
    "    zv=Any[xv]\n",
    "    Δ=[Δ]\n",
    "    ared=Any[]\n",
    "    pred=Any[]\n",
    "    dv=Any[]\n",
    "    l=1\n",
    "    while z[l]==xa && l<maxiter\n",
    "        # First calculate the actual reduction and the predicted reduction \n",
    "        push!(ared,f(xa)-f(zv[l]))\n",
    "        push!(dv,zv[l]-xa)\n",
    "        push!(pred,-(transpose(∇f(xa))*dv[l])[1]-(1/2)*(transpose(dv[l])*∇2f(xa)*dv[l])[1])\n",
    "        if ared[l]/pred[l] < μ0\n",
    "            push!(z,xa)\n",
    "            push!(Δ,ω_*Δ[l])\n",
    "            if l>=2 && Δ[l]>Δ[l-1]\n",
    "                z[l+1]=z[l-1]\n",
    "                Δ[l+1]=Δ[l-1]\n",
    "            else\n",
    "                push!(dv,dogleg(xa,f,∇f,∇2f,Δ[l+1]))\n",
    "                push!(zv,xa+dv[l+1])\n",
    "            end\n",
    "        elseif μ0<=ared[l]/pred[l] && ared[l]/pred[l]<=μ_\n",
    "            push!(z,zv[l])\n",
    "            push!(Δ,ω_*Δ[l])\n",
    "        elseif μ_<=ared[l]/pred[l] && ared[l]/pred[l]<=μ̄\n",
    "            push!(z,zv[l])\n",
    "        elseif μ̄<=ared[l]/pred[l] \n",
    "            if (Δ[l]-1e-15<=norm(dv[l]) && norm(dv[l])<=Δ[l]+1e-15) && Δ[l]<=C*norm(∇f(xa))\n",
    "                push!(z,xa)\n",
    "                push!(Δ,ω̄*Δ[l])\n",
    "                push!(dv,dogleg(xa,f,∇f,∇2f,Δ[l+1]))\n",
    "                push!(zv,xa+dv[l+1])\n",
    "            else \n",
    "                push!(z,zv[l])\n",
    "            end\n",
    "        end\n",
    "        l+=1\n",
    "    end\n",
    "    Any[z[length(z)],Δ[length(Δ)]]\n",
    "end "
   ]
  },
  {
   "cell_type": "markdown",
   "metadata": {},
   "source": [
    "Finally the next function implements the trust region algorithm to minimize a function f using the dogleg method with initial point $x_0$, initial trust region radius $r_0$, termination tolerance $\\epsilon$ and maximal number of iterations `niter`, as has as output an array with the whole iterations history."
   ]
  },
  {
   "cell_type": "code",
   "execution_count": 11,
   "metadata": {
    "collapsed": false
   },
   "outputs": [
    {
     "data": {
      "text/plain": [
       "trustregion (generic function with 1 method)"
      ]
     },
     "execution_count": 11,
     "metadata": {},
     "output_type": "execute_result"
    }
   ],
   "source": [
    "function trustregion(f,∇f,∇2f,x0,r0,ϵ,niter)\n",
    "    #Initialize the values\n",
    "    X=Any[x0]\n",
    "    r=r0\n",
    "    k=1\n",
    "    while norm(∇f(X[k]))>ϵ && k<=niter\n",
    "        # Calculate with the dogleg method the trial point\n",
    "        xv=X[k]+dogleg(X[k],f,∇f,∇2f,r)\n",
    "        # Get the new point and the new trust region radio with the trust\n",
    "        # region algorithm 7.3\n",
    "        step=trustregion_step(X[k],xv,f,∇f,∇2f,r,1000)\n",
    "        push!(X,step[1])\n",
    "        # We change to the new radio\n",
    "        r=step[2]\n",
    "        k=k+1\n",
    "    end\n",
    "    X\n",
    "end"
   ]
  },
  {
   "cell_type": "code",
   "execution_count": 7,
   "metadata": {
    "collapsed": false
   },
   "outputs": [
    {
     "data": {
      "text/plain": [
       "f (generic function with 1 method)"
      ]
     },
     "execution_count": 7,
     "metadata": {},
     "output_type": "execute_result"
    }
   ],
   "source": [
    "# We define the Rosenbrock function \n",
    "function f(x)\n",
    "    100*(x[2]-x[1]^2)^2+(1-x[1])^2\n",
    "end"
   ]
  },
  {
   "cell_type": "code",
   "execution_count": 8,
   "metadata": {
    "collapsed": false
   },
   "outputs": [
    {
     "data": {
      "text/plain": [
       "∇f (generic function with 1 method)"
      ]
     },
     "execution_count": 8,
     "metadata": {},
     "output_type": "execute_result"
    }
   ],
   "source": [
    "# We define the gradient of the Rosenbrock function\n",
    "function ∇f(x)\n",
    "    [400*x[1]^3+2*x[1]-400*x[1]*x[2]-2,-200*x[1]^2+200*x[2]]\n",
    "end"
   ]
  },
  {
   "cell_type": "code",
   "execution_count": 9,
   "metadata": {
    "collapsed": false
   },
   "outputs": [
    {
     "data": {
      "text/plain": [
       "∇2f (generic function with 1 method)"
      ]
     },
     "execution_count": 9,
     "metadata": {},
     "output_type": "execute_result"
    }
   ],
   "source": [
    "# Finally, we define the laplacian of the Rosenbrock function\n",
    "function ∇2f(x)\n",
    "    reshape([1200*x[1]^2-400*x[2]+2,200,200,-400*x[1]],2,2)\n",
    "end"
   ]
  },
  {
   "cell_type": "code",
   "execution_count": 12,
   "metadata": {
    "collapsed": false
   },
   "outputs": [],
   "source": [
    "# Lets define the initial point x0, r0 the initial trust region radius, ϵ is the termination tolerance, and niter the\n",
    "# maximal number of iteration steps\n",
    "x0=[-5.0,5.0]\n",
    "r0=1.0\n",
    "ϵ=1.0e-5\n",
    "niter=1000;"
   ]
  },
  {
   "cell_type": "code",
   "execution_count": null,
   "metadata": {
    "collapsed": false
   },
   "outputs": [],
   "source": [
    "# Lets calculate the solution in this case\n",
    "X=trustregion(f,∇f,∇2f,x0,r0,ϵ,niter)"
   ]
  }
 ],
 "metadata": {
  "kernelspec": {
   "display_name": "Julia 0.4.2-pre",
   "language": "julia",
   "name": "julia-0.4"
  },
  "language_info": {
   "file_extension": ".jl",
   "mimetype": "application/julia",
   "name": "julia",
   "version": "0.4.2"
  }
 },
 "nbformat": 4,
 "nbformat_minor": 0
}
